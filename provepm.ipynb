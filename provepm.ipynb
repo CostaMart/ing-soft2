{
 "cells": [
  {
   "cell_type": "code",
   "execution_count": 1,
   "metadata": {},
   "outputs": [],
   "source": [
    "import process_metrics as pm\n",
    "import os\n",
    "import git_ck \n",
    "import repo_utils as ru\n",
    "import pandas as pd "
   ]
  },
  {
   "cell_type": "code",
   "execution_count": 2,
   "metadata": {},
   "outputs": [],
   "source": [
    "   \n",
    "try:\n",
    "    ru.check_repo()\n",
    "    ru.check_folder()\n",
    "except:\n",
    "    print(\"Warning\")\n",
    "    "
   ]
  },
  {
   "cell_type": "code",
   "execution_count": 2,
   "metadata": {},
   "outputs": [],
   "source": [
    "num = pm.controlla_numero_revisioni_per_classe(\"TestGraphics2D.java\")\n"
   ]
  },
  {
   "cell_type": "code",
   "execution_count": 3,
   "metadata": {},
   "outputs": [
    {
     "name": "stdout",
     "output_type": "stream",
     "text": [
      "9\n"
     ]
    }
   ],
   "source": [
    "print(num)"
   ]
  },
  {
   "cell_type": "code",
   "execution_count": 2,
   "metadata": {},
   "outputs": [],
   "source": [
    "bf= pm.calcola_numero_bug_fix()"
   ]
  },
  {
   "cell_type": "code",
   "execution_count": 3,
   "metadata": {},
   "outputs": [
    {
     "name": "stdout",
     "output_type": "stream",
     "text": [
      "25\n"
     ]
    }
   ],
   "source": [
    "print(bf)"
   ]
  },
  {
   "cell_type": "code",
   "execution_count": 2,
   "metadata": {},
   "outputs": [],
   "source": [
    "cc = pm.calcola_code_churn(\"43f7cfecbd273c5cac4a7c3083db5b31cb67921\",\"543fee39bfbc24d5714a2a29c673efa8b5feecba\")"
   ]
  },
  {
   "cell_type": "code",
   "execution_count": 3,
   "metadata": {},
   "outputs": [
    {
     "name": "stdout",
     "output_type": "stream",
     "text": [
      "75\n"
     ]
    }
   ],
   "source": [
    "print(cc)"
   ]
  },
  {
   "cell_type": "code",
   "execution_count": 2,
   "metadata": {},
   "outputs": [],
   "source": [
    "linee, linee_vuote, commenti = pm.calcola_loc(\"TestGraphics2D.java\")"
   ]
  },
  {
   "cell_type": "code",
   "execution_count": 3,
   "metadata": {},
   "outputs": [
    {
     "name": "stdout",
     "output_type": "stream",
     "text": [
      "Le linee di codice sono: 585\n",
      "\n",
      "Le linee vuote sono: 89\n",
      "\n",
      "I commenti sono: 271\n"
     ]
    }
   ],
   "source": [
    "print(\"Le linee di codice sono: \"+str(linee))\n",
    "print(\"\\nLe linee vuote sono: \"+str(linee_vuote))\n",
    "print(\"\\nI commenti sono: \"+str(commenti))"
   ]
  },
  {
   "cell_type": "code",
   "execution_count": 8,
   "metadata": {},
   "outputs": [],
   "source": [
    "autori = pm.calcola_autori_distinti_per_file(\"GCStateHandler.java\")"
   ]
  },
  {
   "cell_type": "code",
   "execution_count": 9,
   "metadata": {},
   "outputs": [
    {
     "name": "stdout",
     "output_type": "stream",
     "text": [
      "{'bourgesl', 'David Gilbert'}\n"
     ]
    }
   ],
   "source": [
    "print(autori)"
   ]
  },
  {
   "cell_type": "code",
   "execution_count": 2,
   "metadata": {},
   "outputs": [],
   "source": [
    "weeks = pm.calcola_settimane_file(\"GCStateHandler.java\")"
   ]
  },
  {
   "cell_type": "code",
   "execution_count": 3,
   "metadata": {},
   "outputs": [
    {
     "name": "stdout",
     "output_type": "stream",
     "text": [
      "37\n"
     ]
    }
   ],
   "source": [
    "print(weeks)"
   ]
  },
  {
   "cell_type": "code",
   "execution_count": 2,
   "metadata": {},
   "outputs": [],
   "source": [
    "df = pm.calcola_loc_repo()"
   ]
  },
  {
   "cell_type": "code",
   "execution_count": 3,
   "metadata": {},
   "outputs": [
    {
     "name": "stdout",
     "output_type": "stream",
     "text": [
      "                    Nome Classe  Linee di Codice  Linee Vuote  Commenti\n",
      "0              module-info.java                7            0         4\n",
      "1            FXFontMetrics.java               58           11        52\n",
      "2             FXGraphics2D.java             1088          135       915\n",
      "3  FXGraphicsConfiguration.java               61           15        93\n",
      "4         FXGraphicsDevice.java               27           11        66\n",
      "5                  FXHints.java               21            9        70\n",
      "6           GCStateHandler.java               92           23        44\n",
      "7             package-info.java                1            0         4\n",
      "8           TestGraphics2D.java              585           89       271\n"
     ]
    }
   ],
   "source": [
    "print(df)"
   ]
  },
  {
   "cell_type": "code",
   "execution_count": 3,
   "metadata": {},
   "outputs": [
    {
     "name": "stdout",
     "output_type": "stream",
     "text": [
      "Errore durante il recupero del contenuto della classe FXFontMetrics nel commit c705eae618faa0a1ef9690a258591e6017bd9cce: Command '['git', '-C', 'c:\\\\Users\\\\simon\\\\Documents\\\\GitHub\\\\ing-soft2\\\\repository', 'show', 'c705eae618faa0a1ef9690a258591e6017bd9cce:FXFontMetrics']' returned non-zero exit status 128.\n",
      "None\n"
     ]
    }
   ],
   "source": [
    "print(pm.get_class_content_in_commit(\"c705eae618faa0a1ef9690a258591e6017bd9cce\",\"FXFontMetrics\"))"
   ]
  },
  {
   "cell_type": "code",
   "execution_count": 2,
   "metadata": {},
   "outputs": [
    {
     "ename": "GitCommandError",
     "evalue": "Cmd('git') failed due to: exit code(128)\n  cmdline: git clone -v --branch=c705eae618faa0a1ef9690a258591e6017bd9cce --depth=1 -- https://github.com/jfree/fxgraphics2d c:\\Users\\simon\\Documents\\GitHub\\ing-soft2\\repositoryc705eae618faa0a1ef9690a258591e6017bd9cce\n  stderr: 'Cloning into 'c:\\Users\\simon\\Documents\\GitHub\\ing-soft2\\repositoryc705eae618faa0a1ef9690a258591e6017bd9cce'...\nPOST git-upload-pack (578 bytes)\nwarning: Could not find remote branch c705eae618faa0a1ef9690a258591e6017bd9cce to clone.\nfatal: Remote branch c705eae618faa0a1ef9690a258591e6017bd9cce not found in upstream origin\n'",
     "output_type": "error",
     "traceback": [
      "\u001b[1;31m---------------------------------------------------------------------------\u001b[0m",
      "\u001b[1;31mGitCommandError\u001b[0m                           Traceback (most recent call last)",
      "\u001b[1;32mc:\\Users\\simon\\Documents\\GitHub\\ing-soft2\\provepm.ipynb Cell 17\u001b[0m line \u001b[0;36m1\n\u001b[1;32m----> <a href='vscode-notebook-cell:/c%3A/Users/simon/Documents/GitHub/ing-soft2/provepm.ipynb#X22sZmlsZQ%3D%3D?line=0'>1</a>\u001b[0m ru\u001b[39m.\u001b[39;49mclone_repository_at_commit(\u001b[39m\"\u001b[39;49m\u001b[39mc705eae618faa0a1ef9690a258591e6017bd9cce\u001b[39;49m\u001b[39m\"\u001b[39;49m)\n",
      "File \u001b[1;32mc:\\Users\\simon\\Documents\\GitHub\\ing-soft2\\repo_utils.py:52\u001b[0m, in \u001b[0;36mclone_repository_at_commit\u001b[1;34m(commit_sha)\u001b[0m\n\u001b[0;32m     49\u001b[0m \u001b[39mif\u001b[39;00m \u001b[39mnot\u001b[39;00m os\u001b[39m.\u001b[39mpath\u001b[39m.\u001b[39mexists(target_directory):\n\u001b[0;32m     50\u001b[0m     os\u001b[39m.\u001b[39mmakedirs(target_directory)\n\u001b[1;32m---> 52\u001b[0m repo \u001b[39m=\u001b[39m git\u001b[39m.\u001b[39;49mRepo\u001b[39m.\u001b[39;49mclone_from(remote_repo, target_directory, branch\u001b[39m=\u001b[39;49mcommit_sha, depth\u001b[39m=\u001b[39;49m\u001b[39m1\u001b[39;49m)\n\u001b[0;32m     53\u001b[0m \u001b[39mreturn\u001b[39;00m repo\n",
      "File \u001b[1;32mc:\\Users\\simon\\AppData\\Local\\Programs\\Python\\Python311\\Lib\\site-packages\\git\\repo\\base.py:1328\u001b[0m, in \u001b[0;36mRepo.clone_from\u001b[1;34m(cls, url, to_path, progress, env, multi_options, allow_unsafe_protocols, allow_unsafe_options, **kwargs)\u001b[0m\n\u001b[0;32m   1326\u001b[0m \u001b[39mif\u001b[39;00m env \u001b[39mis\u001b[39;00m \u001b[39mnot\u001b[39;00m \u001b[39mNone\u001b[39;00m:\n\u001b[0;32m   1327\u001b[0m     git\u001b[39m.\u001b[39mupdate_environment(\u001b[39m*\u001b[39m\u001b[39m*\u001b[39menv)\n\u001b[1;32m-> 1328\u001b[0m \u001b[39mreturn\u001b[39;00m \u001b[39mcls\u001b[39;49m\u001b[39m.\u001b[39;49m_clone(\n\u001b[0;32m   1329\u001b[0m     git,\n\u001b[0;32m   1330\u001b[0m     url,\n\u001b[0;32m   1331\u001b[0m     to_path,\n\u001b[0;32m   1332\u001b[0m     GitCmdObjectDB,\n\u001b[0;32m   1333\u001b[0m     progress,\n\u001b[0;32m   1334\u001b[0m     multi_options,\n\u001b[0;32m   1335\u001b[0m     allow_unsafe_protocols\u001b[39m=\u001b[39;49mallow_unsafe_protocols,\n\u001b[0;32m   1336\u001b[0m     allow_unsafe_options\u001b[39m=\u001b[39;49mallow_unsafe_options,\n\u001b[0;32m   1337\u001b[0m     \u001b[39m*\u001b[39;49m\u001b[39m*\u001b[39;49mkwargs,\n\u001b[0;32m   1338\u001b[0m )\n",
      "File \u001b[1;32mc:\\Users\\simon\\AppData\\Local\\Programs\\Python\\Python311\\Lib\\site-packages\\git\\repo\\base.py:1237\u001b[0m, in \u001b[0;36mRepo._clone\u001b[1;34m(cls, git, url, path, odb_default_type, progress, multi_options, allow_unsafe_protocols, allow_unsafe_options, **kwargs)\u001b[0m\n\u001b[0;32m   1234\u001b[0m     cmdline \u001b[39m=\u001b[39m remove_password_if_present(cmdline)\n\u001b[0;32m   1236\u001b[0m     log\u001b[39m.\u001b[39mdebug(\u001b[39m\"\u001b[39m\u001b[39mCmd(\u001b[39m\u001b[39m%s\u001b[39;00m\u001b[39m)\u001b[39m\u001b[39m'\u001b[39m\u001b[39ms unused stdout: \u001b[39m\u001b[39m%s\u001b[39;00m\u001b[39m\"\u001b[39m, cmdline, stdout)\n\u001b[1;32m-> 1237\u001b[0m     finalize_process(proc, stderr\u001b[39m=\u001b[39;49mstderr)\n\u001b[0;32m   1239\u001b[0m \u001b[39m# our git command could have a different working dir than our actual\u001b[39;00m\n\u001b[0;32m   1240\u001b[0m \u001b[39m# environment, hence we prepend its working dir if required\u001b[39;00m\n\u001b[0;32m   1241\u001b[0m \u001b[39mif\u001b[39;00m \u001b[39mnot\u001b[39;00m osp\u001b[39m.\u001b[39misabs(path):\n",
      "File \u001b[1;32mc:\\Users\\simon\\AppData\\Local\\Programs\\Python\\Python311\\Lib\\site-packages\\git\\util.py:453\u001b[0m, in \u001b[0;36mfinalize_process\u001b[1;34m(proc, **kwargs)\u001b[0m\n\u001b[0;32m    451\u001b[0m \u001b[39m\u001b[39m\u001b[39m\"\"\"Wait for the process (clone, fetch, pull or push) and handle its errors accordingly\"\"\"\u001b[39;00m\n\u001b[0;32m    452\u001b[0m \u001b[39m# TODO: No close proc-streams??\u001b[39;00m\n\u001b[1;32m--> 453\u001b[0m proc\u001b[39m.\u001b[39;49mwait(\u001b[39m*\u001b[39;49m\u001b[39m*\u001b[39;49mkwargs)\n",
      "File \u001b[1;32mc:\\Users\\simon\\AppData\\Local\\Programs\\Python\\Python311\\Lib\\site-packages\\git\\cmd.py:600\u001b[0m, in \u001b[0;36mGit.AutoInterrupt.wait\u001b[1;34m(self, stderr)\u001b[0m\n\u001b[0;32m    598\u001b[0m     errstr \u001b[39m=\u001b[39m read_all_from_possibly_closed_stream(p_stderr)\n\u001b[0;32m    599\u001b[0m     log\u001b[39m.\u001b[39mdebug(\u001b[39m\"\u001b[39m\u001b[39mAutoInterrupt wait stderr: \u001b[39m\u001b[39m%r\u001b[39;00m\u001b[39m\"\u001b[39m \u001b[39m%\u001b[39m (errstr,))\n\u001b[1;32m--> 600\u001b[0m     \u001b[39mraise\u001b[39;00m GitCommandError(remove_password_if_present(\u001b[39mself\u001b[39m\u001b[39m.\u001b[39margs), status, errstr)\n\u001b[0;32m    601\u001b[0m \u001b[39mreturn\u001b[39;00m status\n",
      "\u001b[1;31mGitCommandError\u001b[0m: Cmd('git') failed due to: exit code(128)\n  cmdline: git clone -v --branch=c705eae618faa0a1ef9690a258591e6017bd9cce --depth=1 -- https://github.com/jfree/fxgraphics2d c:\\Users\\simon\\Documents\\GitHub\\ing-soft2\\repositoryc705eae618faa0a1ef9690a258591e6017bd9cce\n  stderr: 'Cloning into 'c:\\Users\\simon\\Documents\\GitHub\\ing-soft2\\repositoryc705eae618faa0a1ef9690a258591e6017bd9cce'...\nPOST git-upload-pack (578 bytes)\nwarning: Could not find remote branch c705eae618faa0a1ef9690a258591e6017bd9cce to clone.\nfatal: Remote branch c705eae618faa0a1ef9690a258591e6017bd9cce not found in upstream origin\n'"
     ]
    }
   ],
   "source": [
    "ru.clone_repository_at_commit(\"c705eae618faa0a1ef9690a258591e6017bd9cce\")"
   ]
  }
 ],
 "metadata": {
  "kernelspec": {
   "display_name": "Python 3",
   "language": "python",
   "name": "python3"
  },
  "language_info": {
   "codemirror_mode": {
    "name": "ipython",
    "version": 3
   },
   "file_extension": ".py",
   "mimetype": "text/x-python",
   "name": "python",
   "nbconvert_exporter": "python",
   "pygments_lexer": "ipython3",
   "version": "3.11.2"
  }
 },
 "nbformat": 4,
 "nbformat_minor": 2
}
